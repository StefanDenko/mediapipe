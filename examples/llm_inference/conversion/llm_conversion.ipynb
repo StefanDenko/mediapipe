{
  "nbformat": 4,
  "nbformat_minor": 0,
  "metadata": {
    "colab": {
      "provenance": []
    },
    "kernelspec": {
      "name": "python3",
      "display_name": "Python 3"
    },
    "language_info": {
      "name": "python"
    },
    "widgets": {
      "application/vnd.jupyter.widget-state+json": {
        "e35f73d982754818bbd291ed43d47a5a": {
          "model_module": "@jupyter-widgets/output",
          "model_name": "OutputModel",
          "model_module_version": "1.0.0",
          "state": {
            "_dom_classes": [],
            "_model_module": "@jupyter-widgets/output",
            "_model_module_version": "1.0.0",
            "_model_name": "OutputModel",
            "_view_count": null,
            "_view_module": "@jupyter-widgets/output",
            "_view_module_version": "1.0.0",
            "_view_name": "OutputView",
            "layout": "IPY_MODEL_cdda3a9ef00442c2950b07832322de70",
            "msg_id": "",
            "outputs": [
              {
                "output_type": "stream",
                "name": "stdout",
                "text": [
                  "Setup done.\n"
                ]
              }
            ]
          }
        },
        "cdda3a9ef00442c2950b07832322de70": {
          "model_module": "@jupyter-widgets/base",
          "model_name": "LayoutModel",
          "model_module_version": "1.2.0",
          "state": {
            "_model_module": "@jupyter-widgets/base",
            "_model_module_version": "1.2.0",
            "_model_name": "LayoutModel",
            "_view_count": null,
            "_view_module": "@jupyter-widgets/base",
            "_view_module_version": "1.2.0",
            "_view_name": "LayoutView",
            "align_content": null,
            "align_items": null,
            "align_self": null,
            "border": null,
            "bottom": null,
            "display": null,
            "flex": null,
            "flex_flow": null,
            "grid_area": null,
            "grid_auto_columns": null,
            "grid_auto_flow": null,
            "grid_auto_rows": null,
            "grid_column": null,
            "grid_gap": null,
            "grid_row": null,
            "grid_template_areas": null,
            "grid_template_columns": null,
            "grid_template_rows": null,
            "height": null,
            "justify_content": null,
            "justify_items": null,
            "left": null,
            "margin": null,
            "max_height": null,
            "max_width": null,
            "min_height": null,
            "min_width": null,
            "object_fit": null,
            "object_position": null,
            "order": null,
            "overflow": null,
            "overflow_x": null,
            "overflow_y": null,
            "padding": null,
            "right": null,
            "top": null,
            "visibility": null,
            "width": null
          }
        },
        "76538a64e68d472a8fb85803e69d832b": {
          "model_module": "@jupyter-widgets/controls",
          "model_name": "DropdownModel",
          "model_module_version": "1.5.0",
          "state": {
            "_dom_classes": [],
            "_model_module": "@jupyter-widgets/controls",
            "_model_module_version": "1.5.0",
            "_model_name": "DropdownModel",
            "_options_labels": [
              "Gemma 2B",
              "Gemma 7B",
              "Falcon 1B",
              "StableLM 3B",
              "Phi 2"
            ],
            "_view_count": null,
            "_view_module": "@jupyter-widgets/controls",
            "_view_module_version": "1.5.0",
            "_view_name": "DropdownView",
            "description": "model",
            "description_tooltip": null,
            "disabled": false,
            "index": 2,
            "layout": "IPY_MODEL_bb8726d1817e416790632687ab1f12a3",
            "style": "IPY_MODEL_6ab1c7e286f146d5b8bee83b03763411"
          }
        },
        "bb8726d1817e416790632687ab1f12a3": {
          "model_module": "@jupyter-widgets/base",
          "model_name": "LayoutModel",
          "model_module_version": "1.2.0",
          "state": {
            "_model_module": "@jupyter-widgets/base",
            "_model_module_version": "1.2.0",
            "_model_name": "LayoutModel",
            "_view_count": null,
            "_view_module": "@jupyter-widgets/base",
            "_view_module_version": "1.2.0",
            "_view_name": "LayoutView",
            "align_content": null,
            "align_items": null,
            "align_self": null,
            "border": null,
            "bottom": null,
            "display": null,
            "flex": null,
            "flex_flow": null,
            "grid_area": null,
            "grid_auto_columns": null,
            "grid_auto_flow": null,
            "grid_auto_rows": null,
            "grid_column": null,
            "grid_gap": null,
            "grid_row": null,
            "grid_template_areas": null,
            "grid_template_columns": null,
            "grid_template_rows": null,
            "height": null,
            "justify_content": null,
            "justify_items": null,
            "left": null,
            "margin": null,
            "max_height": null,
            "max_width": null,
            "min_height": null,
            "min_width": null,
            "object_fit": null,
            "object_position": null,
            "order": null,
            "overflow": null,
            "overflow_x": null,
            "overflow_y": null,
            "padding": null,
            "right": null,
            "top": null,
            "visibility": null,
            "width": null
          }
        },
        "6ab1c7e286f146d5b8bee83b03763411": {
          "model_module": "@jupyter-widgets/controls",
          "model_name": "DescriptionStyleModel",
          "model_module_version": "1.5.0",
          "state": {
            "_model_module": "@jupyter-widgets/controls",
            "_model_module_version": "1.5.0",
            "_model_name": "DescriptionStyleModel",
            "_view_count": null,
            "_view_module": "@jupyter-widgets/base",
            "_view_module_version": "1.2.0",
            "_view_name": "StyleView",
            "description_width": ""
          }
        },
        "002809ccd8bf4f9b90ccc0bd39a544b9": {
          "model_module": "@jupyter-widgets/controls",
          "model_name": "DropdownModel",
          "model_module_version": "1.5.0",
          "state": {
            "_dom_classes": [],
            "_model_module": "@jupyter-widgets/controls",
            "_model_module_version": "1.5.0",
            "_model_name": "DropdownModel",
            "_options_labels": [
              "cpu",
              "gpu"
            ],
            "_view_count": null,
            "_view_module": "@jupyter-widgets/controls",
            "_view_module_version": "1.5.0",
            "_view_name": "DropdownView",
            "description": "backend",
            "description_tooltip": null,
            "disabled": false,
            "index": 1,
            "layout": "IPY_MODEL_9f8a3ca095a94338a32cb49c534293ae",
            "style": "IPY_MODEL_a16d6641847d4a79a207f57a183c43aa"
          }
        },
        "9f8a3ca095a94338a32cb49c534293ae": {
          "model_module": "@jupyter-widgets/base",
          "model_name": "LayoutModel",
          "model_module_version": "1.2.0",
          "state": {
            "_model_module": "@jupyter-widgets/base",
            "_model_module_version": "1.2.0",
            "_model_name": "LayoutModel",
            "_view_count": null,
            "_view_module": "@jupyter-widgets/base",
            "_view_module_version": "1.2.0",
            "_view_name": "LayoutView",
            "align_content": null,
            "align_items": null,
            "align_self": null,
            "border": null,
            "bottom": null,
            "display": null,
            "flex": null,
            "flex_flow": null,
            "grid_area": null,
            "grid_auto_columns": null,
            "grid_auto_flow": null,
            "grid_auto_rows": null,
            "grid_column": null,
            "grid_gap": null,
            "grid_row": null,
            "grid_template_areas": null,
            "grid_template_columns": null,
            "grid_template_rows": null,
            "height": null,
            "justify_content": null,
            "justify_items": null,
            "left": null,
            "margin": null,
            "max_height": null,
            "max_width": null,
            "min_height": null,
            "min_width": null,
            "object_fit": null,
            "object_position": null,
            "order": null,
            "overflow": null,
            "overflow_x": null,
            "overflow_y": null,
            "padding": null,
            "right": null,
            "top": null,
            "visibility": null,
            "width": null
          }
        },
        "a16d6641847d4a79a207f57a183c43aa": {
          "model_module": "@jupyter-widgets/controls",
          "model_name": "DescriptionStyleModel",
          "model_module_version": "1.5.0",
          "state": {
            "_model_module": "@jupyter-widgets/controls",
            "_model_module_version": "1.5.0",
            "_model_name": "DescriptionStyleModel",
            "_view_count": null,
            "_view_module": "@jupyter-widgets/base",
            "_view_module_version": "1.2.0",
            "_view_name": "StyleView",
            "description_width": ""
          }
        },
        "4c473614da934079b360c30ff59aa098": {
          "model_module": "@jupyter-widgets/output",
          "model_name": "OutputModel",
          "model_module_version": "1.0.0",
          "state": {
            "_dom_classes": [],
            "_model_module": "@jupyter-widgets/output",
            "_model_module_version": "1.0.0",
            "_model_name": "OutputModel",
            "_view_count": null,
            "_view_module": "@jupyter-widgets/output",
            "_view_module_version": "1.0.0",
            "_view_name": "OutputView",
            "layout": "IPY_MODEL_6f666757a77a4fc1832a9b56a8efcdb7",
            "msg_id": "",
            "outputs": [
              {
                "output_type": "stream",
                "name": "stdout",
                "text": [
                  "Huggingface token needed for gated model (e.g. Gemma)\n",
                  "You can get it from https://huggingface.co/settings/tokens\n"
                ]
              }
            ]
          }
        },
        "6f666757a77a4fc1832a9b56a8efcdb7": {
          "model_module": "@jupyter-widgets/base",
          "model_name": "LayoutModel",
          "model_module_version": "1.2.0",
          "state": {
            "_model_module": "@jupyter-widgets/base",
            "_model_module_version": "1.2.0",
            "_model_name": "LayoutModel",
            "_view_count": null,
            "_view_module": "@jupyter-widgets/base",
            "_view_module_version": "1.2.0",
            "_view_name": "LayoutView",
            "align_content": null,
            "align_items": null,
            "align_self": null,
            "border": null,
            "bottom": null,
            "display": null,
            "flex": null,
            "flex_flow": null,
            "grid_area": null,
            "grid_auto_columns": null,
            "grid_auto_flow": null,
            "grid_auto_rows": null,
            "grid_column": null,
            "grid_gap": null,
            "grid_row": null,
            "grid_template_areas": null,
            "grid_template_columns": null,
            "grid_template_rows": null,
            "height": null,
            "justify_content": null,
            "justify_items": null,
            "left": null,
            "margin": null,
            "max_height": null,
            "max_width": null,
            "min_height": null,
            "min_width": null,
            "object_fit": null,
            "object_position": null,
            "order": null,
            "overflow": null,
            "overflow_x": null,
            "overflow_y": null,
            "padding": null,
            "right": null,
            "top": null,
            "visibility": null,
            "width": null
          }
        },
        "7b6f843d1ec04e73817478e9901f28dd": {
          "model_module": "@jupyter-widgets/controls",
          "model_name": "PasswordModel",
          "model_module_version": "1.5.0",
          "state": {
            "_dom_classes": [],
            "_model_module": "@jupyter-widgets/controls",
            "_model_module_version": "1.5.0",
            "_model_name": "PasswordModel",
            "_view_count": null,
            "_view_module": "@jupyter-widgets/controls",
            "_view_module_version": "1.5.0",
            "_view_name": "PasswordView",
            "continuous_update": true,
            "description": "HF token:",
            "description_tooltip": null,
            "disabled": false,
            "layout": "IPY_MODEL_5e5aa986d1284e55a69846883733dd3a",
            "placeholder": "huggingface token",
            "style": "IPY_MODEL_aeb901b49b9043d793f6048630dddcc0",
            "value": ""
          }
        },
        "5e5aa986d1284e55a69846883733dd3a": {
          "model_module": "@jupyter-widgets/base",
          "model_name": "LayoutModel",
          "model_module_version": "1.2.0",
          "state": {
            "_model_module": "@jupyter-widgets/base",
            "_model_module_version": "1.2.0",
            "_model_name": "LayoutModel",
            "_view_count": null,
            "_view_module": "@jupyter-widgets/base",
            "_view_module_version": "1.2.0",
            "_view_name": "LayoutView",
            "align_content": null,
            "align_items": null,
            "align_self": null,
            "border": null,
            "bottom": null,
            "display": "none",
            "flex": null,
            "flex_flow": null,
            "grid_area": null,
            "grid_auto_columns": null,
            "grid_auto_flow": null,
            "grid_auto_rows": null,
            "grid_column": null,
            "grid_gap": null,
            "grid_row": null,
            "grid_template_areas": null,
            "grid_template_columns": null,
            "grid_template_rows": null,
            "height": null,
            "justify_content": null,
            "justify_items": null,
            "left": null,
            "margin": null,
            "max_height": null,
            "max_width": null,
            "min_height": null,
            "min_width": null,
            "object_fit": null,
            "object_position": null,
            "order": null,
            "overflow": null,
            "overflow_x": null,
            "overflow_y": null,
            "padding": null,
            "right": null,
            "top": null,
            "visibility": null,
            "width": null
          }
        },
        "aeb901b49b9043d793f6048630dddcc0": {
          "model_module": "@jupyter-widgets/controls",
          "model_name": "DescriptionStyleModel",
          "model_module_version": "1.5.0",
          "state": {
            "_model_module": "@jupyter-widgets/controls",
            "_model_module_version": "1.5.0",
            "_model_name": "DescriptionStyleModel",
            "_view_count": null,
            "_view_module": "@jupyter-widgets/base",
            "_view_module_version": "1.2.0",
            "_view_name": "StyleView",
            "description_width": ""
          }
        },
        "f21469b446f54148b0991c8915c4d40b": {
          "model_module": "@jupyter-widgets/controls",
          "model_name": "ButtonModel",
          "model_module_version": "1.5.0",
          "state": {
            "_dom_classes": [],
            "_model_module": "@jupyter-widgets/controls",
            "_model_module_version": "1.5.0",
            "_model_name": "ButtonModel",
            "_view_count": null,
            "_view_module": "@jupyter-widgets/controls",
            "_view_module_version": "1.5.0",
            "_view_name": "ButtonView",
            "button_style": "",
            "description": "Start Conversion",
            "disabled": false,
            "icon": "",
            "layout": "IPY_MODEL_b498999a61134c6abd468e75cd340fae",
            "style": "IPY_MODEL_4342d101d5e64aa6b121e7432114bc1f",
            "tooltip": ""
          }
        },
        "b498999a61134c6abd468e75cd340fae": {
          "model_module": "@jupyter-widgets/base",
          "model_name": "LayoutModel",
          "model_module_version": "1.2.0",
          "state": {
            "_model_module": "@jupyter-widgets/base",
            "_model_module_version": "1.2.0",
            "_model_name": "LayoutModel",
            "_view_count": null,
            "_view_module": "@jupyter-widgets/base",
            "_view_module_version": "1.2.0",
            "_view_name": "LayoutView",
            "align_content": null,
            "align_items": null,
            "align_self": null,
            "border": null,
            "bottom": null,
            "display": null,
            "flex": null,
            "flex_flow": null,
            "grid_area": null,
            "grid_auto_columns": null,
            "grid_auto_flow": null,
            "grid_auto_rows": null,
            "grid_column": null,
            "grid_gap": null,
            "grid_row": null,
            "grid_template_areas": null,
            "grid_template_columns": null,
            "grid_template_rows": null,
            "height": null,
            "justify_content": null,
            "justify_items": null,
            "left": null,
            "margin": null,
            "max_height": null,
            "max_width": null,
            "min_height": null,
            "min_width": null,
            "object_fit": null,
            "object_position": null,
            "order": null,
            "overflow": null,
            "overflow_x": null,
            "overflow_y": null,
            "padding": null,
            "right": null,
            "top": null,
            "visibility": null,
            "width": null
          }
        },
        "4342d101d5e64aa6b121e7432114bc1f": {
          "model_module": "@jupyter-widgets/controls",
          "model_name": "ButtonStyleModel",
          "model_module_version": "1.5.0",
          "state": {
            "_model_module": "@jupyter-widgets/controls",
            "_model_module_version": "1.5.0",
            "_model_name": "ButtonStyleModel",
            "_view_count": null,
            "_view_module": "@jupyter-widgets/base",
            "_view_module_version": "1.2.0",
            "_view_name": "StyleView",
            "button_color": null,
            "font_weight": ""
          }
        },
        "40ea8ee9cf944f9bb571844b95f81d3f": {
          "model_module": "@jupyter-widgets/output",
          "model_name": "OutputModel",
          "model_module_version": "1.0.0",
          "state": {
            "_dom_classes": [],
            "_model_module": "@jupyter-widgets/output",
            "_model_module_version": "1.0.0",
            "_model_name": "OutputModel",
            "_view_count": null,
            "_view_module": "@jupyter-widgets/output",
            "_view_module_version": "1.0.0",
            "_view_name": "OutputView",
            "layout": "IPY_MODEL_efb0e92a1b1e46d69ed343f22df53384",
            "msg_id": "",
            "outputs": [
              {
                "output_type": "stream",
                "name": "stdout",
                "text": [
                  "Downloading model ...\n"
                ]
              },
              {
                "output_type": "stream",
                "name": "stdout",
                "text": [
                  "Done\n",
                  "Converting model ...\n"
                ]
              },
              {
                "output_type": "stream",
                "name": "stderr",
                "text": [
                  "/usr/local/lib/python3.10/dist-packages/mediapipe/tasks/python/genai/converter/pytorch_converter.py:34: FutureWarning: You are using `torch.load` with `weights_only=False` (the current default value), which uses the default pickle module implicitly. It is possible to construct malicious pickle data which will execute arbitrary code during unpickling (See https://github.com/pytorch/pytorch/blob/main/SECURITY.md#untrusted-models for more details). In a future release, the default value for `weights_only` will be flipped to `True`. This limits the functions that could be executed during unpickling. Arbitrary objects will no longer be allowed to be loaded via this mode unless they are explicitly allowlisted by the user via `torch.serialization.add_safe_globals`. We recommend you start setting `weights_only=True` for any use case where you don't have full control of the loaded file. Please open an issue on GitHub for any issues related to this experimental feature.\n",
                  "  self._model = torch.load(model_path, map_location=torch.device(\"cpu\"))\n"
                ]
              },
              {
                "output_type": "stream",
                "name": "stdout",
                "text": [
                  "Done\n"
                ]
              }
            ]
          }
        },
        "efb0e92a1b1e46d69ed343f22df53384": {
          "model_module": "@jupyter-widgets/base",
          "model_name": "LayoutModel",
          "model_module_version": "1.2.0",
          "state": {
            "_model_module": "@jupyter-widgets/base",
            "_model_module_version": "1.2.0",
            "_model_name": "LayoutModel",
            "_view_count": null,
            "_view_module": "@jupyter-widgets/base",
            "_view_module_version": "1.2.0",
            "_view_name": "LayoutView",
            "align_content": null,
            "align_items": null,
            "align_self": null,
            "border": "1px solid black",
            "bottom": null,
            "display": null,
            "flex": null,
            "flex_flow": null,
            "grid_area": null,
            "grid_auto_columns": null,
            "grid_auto_flow": null,
            "grid_auto_rows": null,
            "grid_column": null,
            "grid_gap": null,
            "grid_row": null,
            "grid_template_areas": null,
            "grid_template_columns": null,
            "grid_template_rows": null,
            "height": null,
            "justify_content": null,
            "justify_items": null,
            "left": null,
            "margin": null,
            "max_height": null,
            "max_width": null,
            "min_height": null,
            "min_width": null,
            "object_fit": null,
            "object_position": null,
            "order": null,
            "overflow": null,
            "overflow_x": null,
            "overflow_y": null,
            "padding": null,
            "right": null,
            "top": null,
            "visibility": null,
            "width": null
          }
        }
      }
    }
  },
  "cells": [
    {
      "cell_type": "markdown",
      "source": [
        "# LLM Conversion\n",
        "\n",
        "<link rel=\"stylesheet\" href=\"/mediapipe/site.css\">\n",
        "\n",
        "<table align=\"left\" class=\"buttons\">\n",
        "  <td>\n",
        "    <a href=\"https://colab.research.google.com/github/googlesamples/mediapipe/blob/main/examples/llm_inference/conversion/llm_conversion.ipynb\" target=\"_blank\">\n",
        "      <img src=\"https://developers.google.com/static/mediapipe/solutions/customization/colab-logo-32px_1920.png\" alt=\"Colab logo\"> Run in Colab\n",
        "    </a>\n",
        "  </td>\n",
        "\n",
        "  <td>\n",
        "    <a href=\"https://github.com/googlesamples/mediapipe/blob/main/examples/llm_inference/conversion/llm_conversion.ipynb\" target=\"_blank\">\n",
        "      <img src=\"https://developers.google.com/static/mediapipe/solutions/customization/github-logo-32px_1920.png\" alt=\"GitHub logo\">\n",
        "      View on GitHub\n",
        "    </a>\n",
        "  </td>\n",
        "</table>"
      ],
      "metadata": {
        "id": "iJyYBXrg79-N"
      }
    },
    {
      "cell_type": "code",
      "source": [
        "#@title License information { display-mode: \"form\" }\n",
        "#@markdown Copyright 2024 The MediaPipe Authors.\n",
        "#@markdown Licensed under the Apache License, Version 2.0 (the \"License\");\n",
        "#@markdown\n",
        "#@markdown you may not use this file except in compliance with the License.\n",
        "#@markdown You may obtain a copy of the License at\n",
        "#@markdown\n",
        "#@markdown https://www.apache.org/licenses/LICENSE-2.0\n",
        "#@markdown\n",
        "#@markdown Unless required by applicable law or agreed to in writing, software\n",
        "#@markdown distributed under the License is distributed on an \"AS IS\" BASIS,\n",
        "#@markdown WITHOUT WARRANTIES OR CONDITIONS OF ANY KIND, either express or implied.\n",
        "#@markdown See the License for the specific language governing permissions and\n",
        "#@markdown limitations under the License."
      ],
      "metadata": {
        "id": "Gy8YJJJgx_4G"
      },
      "execution_count": 3,
      "outputs": []
    },
    {
      "cell_type": "code",
      "execution_count": 4,
      "metadata": {
        "id": "5yYF61P0xseL",
        "colab": {
          "base_uri": "https://localhost:8080/",
          "height": 34,
          "referenced_widgets": [
            "e35f73d982754818bbd291ed43d47a5a",
            "cdda3a9ef00442c2950b07832322de70"
          ]
        },
        "outputId": "97aea368-3936-4983-e866-9fa3c1e3f18e"
      },
      "outputs": [
        {
          "output_type": "display_data",
          "data": {
            "text/plain": [
              "Output()"
            ],
            "application/vnd.jupyter.widget-view+json": {
              "version_major": 2,
              "version_minor": 0,
              "model_id": "e35f73d982754818bbd291ed43d47a5a"
            }
          },
          "metadata": {}
        }
      ],
      "source": [
        "# @title Setup { display-mode: \"form\" }\n",
        "# @markdown import ipywidgets\\\n",
        "# @markdown import IPython.display\\\n",
        "# @markdown import os\\\n",
        "# @markdown import huggingface downloader\\\n",
        "# @markdown import mediapipe genai converter\n",
        "import ipywidgets as widgets\n",
        "from IPython.display import display\n",
        "install_out = widgets.Output()\n",
        "display(install_out)\n",
        "with install_out:\n",
        "  !pip install mediapipe\n",
        "  !pip install torch\n",
        "  !pip install huggingface_hub\n",
        "  import os\n",
        "  from huggingface_hub import hf_hub_download\n",
        "  from mediapipe.tasks.python.genai import converter\n",
        "\n",
        "install_out.clear_output()\n",
        "with install_out:\n",
        "  print(\"Setup done.\")\n"
      ]
    },
    {
      "cell_type": "code",
      "source": [
        "# @title Run { display-mode: \"form\"}\n",
        "\n",
        "model = widgets.Dropdown(\n",
        "    options=[\"Gemma 2B\",\"Gemma 7B\", \"Falcon 1B\", \"StableLM 3B\", \"Phi 2\"],\n",
        "    value='Gemma 2B',\n",
        "    description='model',\n",
        "    disabled=False,\n",
        ")\n",
        "\n",
        "backend = widgets.Dropdown(\n",
        "    options=[\"cpu\", \"gpu\"],\n",
        "    value='cpu',\n",
        "    description='backend',\n",
        "    disabled=False,\n",
        ")\n",
        "\n",
        "token = widgets.Password(\n",
        "    value='',\n",
        "    placeholder='huggingface token',\n",
        "    description='HF token:',\n",
        "    disabled=False\n",
        ")\n",
        "\n",
        "options_mapping = {\n",
        "              'Gemma 2B': ['cpu', 'gpu'],\n",
        "              'Gemma 7B': ['gpu'],\n",
        "              'Falcon 1B': ['cpu', 'gpu'],\n",
        "              'StableLM 3B': ['cpu', 'gpu'],\n",
        "              'Phi 2': ['cpu', 'gpu']\n",
        "}\n",
        "\n",
        "def on_use_gpu(change):\n",
        "  selected_value = change['new']\n",
        "\n",
        "  if selected_value in options_mapping:\n",
        "    backend.options = options_mapping[selected_value]\n",
        "    backend.value = options_mapping[selected_value][0]\n",
        "  else:\n",
        "    token.options = []\n",
        "    token.value = None\n",
        "\n",
        "def on_change_model(change):\n",
        "  selected_values = ['Gemma 2B','Gemma 7B']\n",
        "\n",
        "  if change['new'] in selected_values:\n",
        "    token.layout.display = 'flex'\n",
        "  else:\n",
        "    token.layout.display = 'none'\n",
        "\n",
        "model.observe(on_change_model, names='value')\n",
        "model.observe(on_use_gpu, names='value')\n",
        "\n",
        "\n",
        "display(model)\n",
        "display(backend)\n",
        "\n",
        "token_description = widgets.Output()\n",
        "with token_description:\n",
        "  print(\"Huggingface token needed for gated model (e.g. Gemma)\")\n",
        "  print(\"You can get it from https://huggingface.co/settings/tokens\")\n",
        "\n",
        "display(token_description)\n",
        "display(token)\n",
        "\n",
        "\n",
        "\n",
        "def gemma2b_download(token):\n",
        "  REPO_ID = \"google/gemma-2b-it\"\n",
        "  FILENAMES = [\"tokenizer.json\", \"tokenizer_config.json\", \"model-00001-of-00002.safetensors\", \"model-00002-of-00002.safetensors\"]\n",
        "  os.environ['HF_TOKEN'] = token\n",
        "  with out:\n",
        "    for filename in FILENAMES:\n",
        "      hf_hub_download(repo_id=REPO_ID, filename=filename, local_dir=\"./gemma-2b-it\")\n",
        "\n",
        "def gemma7b_download(token):\n",
        "  REPO_ID = \"google/gemma-1.1-7b-it\"\n",
        "  FILENAMES = [\"tokenizer.json\", \"tokenizer_config.json\", \"model-00001-of-00004.safetensors\", \"model-00002-of-00004.safetensors\", \"model-00003-of-00004.safetensors\", \"model-00004-of-00004.safetensors\"]\n",
        "  os.environ['HF_TOKEN'] = token\n",
        "  with out:\n",
        "    for filename in FILENAMES:\n",
        "      hf_hub_download(repo_id=REPO_ID, filename=filename, local_dir=\"./gemma-1.1-7b-it\")\n",
        "\n",
        "def falcon_download():\n",
        "  REPO_ID = \"tiiuae/falcon-rw-1b\"\n",
        "  FILENAMES = [\"tokenizer.json\", \"tokenizer_config.json\", \"pytorch_model.bin\"]\n",
        "  with out:\n",
        "    for filename in FILENAMES:\n",
        "      hf_hub_download(repo_id=REPO_ID, filename=filename, local_dir=\"./falcon-rw-1b\")\n",
        "\n",
        "def stablelm_download():\n",
        "  REPO_ID = \"stabilityai/stablelm-3b-4e1t\"\n",
        "  FILENAMES = [\"tokenizer.json\", \"tokenizer_config.json\", \"model.safetensors\"]\n",
        "  with out:\n",
        "    for filename in FILENAMES:\n",
        "      hf_hub_download(repo_id=REPO_ID, filename=filename, local_dir=\"./stablelm-3b-4e1t\")\n",
        "\n",
        "def phi2_download():\n",
        "  REPO_ID = \"microsoft/phi-2\"\n",
        "  FILENAMES = [\"tokenizer.json\", \"tokenizer_config.json\", \"model-00001-of-00002.safetensors\", \"model-00002-of-00002.safetensors\"]\n",
        "  with out:\n",
        "    for filename in FILENAMES:\n",
        "      hf_hub_download(repo_id=REPO_ID, filename=filename, local_dir=\"./phi-2\")\n",
        "\n",
        "\n",
        "def gemma2b_convert_config(backend):\n",
        "  input_ckpt = '/content/gemma-2b-it/'\n",
        "  vocab_model_file = '/content/gemma-2b-it/'\n",
        "  output_dir = '/content/intermediate/gemma-2b-it/'\n",
        "  output_tflite_file = f'/content/converted_models/gemma_{backend}.bin'\n",
        "  return converter.ConversionConfig(input_ckpt=input_ckpt, ckpt_format='safetensors', model_type='GEMMA_2B', backend=backend, output_dir=output_dir, combine_file_only=False, vocab_model_file=vocab_model_file, output_tflite_file=output_tflite_file)\n",
        "\n",
        "def gemma7b_convert_config(backend):\n",
        "  input_ckpt = '/content//gemma-1.1-7b-it/'\n",
        "  vocab_model_file = '/content//gemma-1.1-7b-it/'\n",
        "  output_dir = '/content/intermediate//gemma-1.1-7b-it/'\n",
        "  output_tflite_file = f'/content/converted_models/gemma_{backend}.bin'\n",
        "  return converter.ConversionConfig(input_ckpt=input_ckpt, ckpt_format='safetensors', model_type='GEMMA_7B', backend=backend, output_dir=output_dir, combine_file_only=False, vocab_model_file=vocab_model_file, output_tflite_file=output_tflite_file)\n",
        "\n",
        "def falcon_convert_config(backend):\n",
        "  input_ckpt = '/content/falcon-rw-1b/pytorch_model.bin'\n",
        "  vocab_model_file = '/content/falcon-rw-1b/'\n",
        "  output_dir = '/content/intermediate/falcon-rw-1b/'\n",
        "  output_tflite_file = f'/content/converted_models/falcon_{backend}.bin'\n",
        "  return converter.ConversionConfig(input_ckpt=input_ckpt, ckpt_format='pytorch', model_type='FALCON_RW_1B', backend=backend, output_dir=output_dir, combine_file_only=False, vocab_model_file=vocab_model_file, output_tflite_file=output_tflite_file)\n",
        "\n",
        "def stablelm_convert_config(backend):\n",
        "  input_ckpt = '/content/stablelm-3b-4e1t/'\n",
        "  vocab_model_file = '/content/stablelm-3b-4e1t/'\n",
        "  output_dir = '/content/intermediate/stablelm-3b-4e1t/'\n",
        "  output_tflite_file = f'/content/converted_models/stablelm_{backend}.bin'\n",
        "  return converter.ConversionConfig(input_ckpt=input_ckpt, ckpt_format='safetensors', model_type='STABLELM_4E1T_3B', backend=backend, output_dir=output_dir, combine_file_only=False, vocab_model_file=vocab_model_file, output_tflite_file=output_tflite_file)\n",
        "\n",
        "\n",
        "def phi2_convert_config(backend):\n",
        "  input_ckpt = '/content/phi-2'\n",
        "  vocab_model_file = '/content/phi-2/'\n",
        "  output_dir = '/content/intermediate/phi-2/'\n",
        "  output_tflite_file = f'/content/converted_models/phi2_{backend}.bin'\n",
        "\n",
        "  return converter.ConversionConfig(input_ckpt=input_ckpt, ckpt_format='safetensors', model_type='PHI_2', backend=backend, output_dir=output_dir, combine_file_only=False, vocab_model_file=vocab_model_file, output_tflite_file=output_tflite_file)\n",
        "\n",
        "\n",
        "def on_button_clicked(b):\n",
        "  try:\n",
        "    out.clear_output()\n",
        "    with out:\n",
        "      print(\"Downloading model ...\")\n",
        "    button.description = \"Downloading ...\"\n",
        "    button.disabled = True\n",
        "    model.disabled = True\n",
        "    backend.disabled = True\n",
        "\n",
        "    if model.value == 'Gemma 2B':\n",
        "      gemma2b_download(token.value)\n",
        "    elif model.value == 'Gemma 7B':\n",
        "      gemma7b_download(token.value)\n",
        "    elif model.value == 'Falcon 1B':\n",
        "      falcon_download()\n",
        "    elif model.value == 'StableLM 3B':\n",
        "      stablelm_download()\n",
        "    elif model.value == 'Phi 2':\n",
        "      phi2_download()\n",
        "    else:\n",
        "      raise Exception(\"Invalid model\")\n",
        "\n",
        "    with out:\n",
        "      print(\"Done\")\n",
        "      print(\"Converting model ...\")\n",
        "\n",
        "    button.description = \"Converting ...\"\n",
        "\n",
        "    if model.value == 'Gemma 2B':\n",
        "      config = gemma2b_convert_config(backend.value)\n",
        "    elif model.value == 'Gemma 7B':\n",
        "      config = gemma7b_convert_config(backend.value)\n",
        "    elif model.value == 'Falcon 1B':\n",
        "      config = falcon_convert_config(backend.value)\n",
        "    elif model.value == 'StableLM 3B':\n",
        "      config = stablelm_convert_config(backend.value)\n",
        "    elif model.value == 'Phi 2':\n",
        "      config = phi2_convert_config(backend.value)\n",
        "    else:\n",
        "      with out:\n",
        "        raise Exception(\"Invalid model\")\n",
        "      return\n",
        "\n",
        "    with out:\n",
        "      converter.convert_checkpoint(config)\n",
        "      print(\"Done\")\n",
        "\n",
        "    button.description = \"Start Conversion\"\n",
        "    button.disabled = False\n",
        "    model.disabled = False\n",
        "    backend.disabled = False\n",
        "\n",
        "  except Exception as e:\n",
        "    button.description = \"Start Conversion\"\n",
        "    button.disabled = False\n",
        "    model.disabled = False\n",
        "    backend.disabled = False\n",
        "    with out:\n",
        "      print(e)\n",
        "\n",
        "\n",
        "button = widgets.Button(description=\"Start Conversion\")\n",
        "\n",
        "button.on_click(on_button_clicked)\n",
        "display(button)\n",
        "\n",
        "out = widgets.Output(layout={'border': '1px solid black'})\n",
        "display(out)\n",
        "\n",
        "print(\"\\nNotice: Converted models are saved under ./converted_models\")"
      ],
      "metadata": {
        "id": "LSSxrLyQPofw",
        "colab": {
          "base_uri": "https://localhost:8080/",
          "height": 391,
          "referenced_widgets": [
            "76538a64e68d472a8fb85803e69d832b",
            "bb8726d1817e416790632687ab1f12a3",
            "6ab1c7e286f146d5b8bee83b03763411",
            "002809ccd8bf4f9b90ccc0bd39a544b9",
            "9f8a3ca095a94338a32cb49c534293ae",
            "a16d6641847d4a79a207f57a183c43aa",
            "4c473614da934079b360c30ff59aa098",
            "6f666757a77a4fc1832a9b56a8efcdb7",
            "7b6f843d1ec04e73817478e9901f28dd",
            "5e5aa986d1284e55a69846883733dd3a",
            "aeb901b49b9043d793f6048630dddcc0",
            "f21469b446f54148b0991c8915c4d40b",
            "b498999a61134c6abd468e75cd340fae",
            "4342d101d5e64aa6b121e7432114bc1f",
            "40ea8ee9cf944f9bb571844b95f81d3f",
            "efb0e92a1b1e46d69ed343f22df53384"
          ]
        },
        "outputId": "ddeb95e2-182e-4e11-9ef5-911cd058df68"
      },
      "execution_count": 7,
      "outputs": [
        {
          "output_type": "display_data",
          "data": {
            "text/plain": [
              "Dropdown(description='model', options=('Gemma 2B', 'Gemma 7B', 'Falcon 1B', 'StableLM 3B', 'Phi 2'), value='Ge…"
            ],
            "application/vnd.jupyter.widget-view+json": {
              "version_major": 2,
              "version_minor": 0,
              "model_id": "76538a64e68d472a8fb85803e69d832b"
            }
          },
          "metadata": {}
        },
        {
          "output_type": "display_data",
          "data": {
            "text/plain": [
              "Dropdown(description='backend', options=('cpu', 'gpu'), value='cpu')"
            ],
            "application/vnd.jupyter.widget-view+json": {
              "version_major": 2,
              "version_minor": 0,
              "model_id": "002809ccd8bf4f9b90ccc0bd39a544b9"
            }
          },
          "metadata": {}
        },
        {
          "output_type": "display_data",
          "data": {
            "text/plain": [
              "Output()"
            ],
            "application/vnd.jupyter.widget-view+json": {
              "version_major": 2,
              "version_minor": 0,
              "model_id": "4c473614da934079b360c30ff59aa098"
            }
          },
          "metadata": {}
        },
        {
          "output_type": "display_data",
          "data": {
            "text/plain": [
              "Password(description='HF token:', placeholder='huggingface token')"
            ],
            "application/vnd.jupyter.widget-view+json": {
              "version_major": 2,
              "version_minor": 0,
              "model_id": "7b6f843d1ec04e73817478e9901f28dd"
            }
          },
          "metadata": {}
        },
        {
          "output_type": "display_data",
          "data": {
            "text/plain": [
              "Button(description='Start Conversion', style=ButtonStyle())"
            ],
            "application/vnd.jupyter.widget-view+json": {
              "version_major": 2,
              "version_minor": 0,
              "model_id": "f21469b446f54148b0991c8915c4d40b"
            }
          },
          "metadata": {}
        },
        {
          "output_type": "display_data",
          "data": {
            "text/plain": [
              "Output(layout=Layout(border='1px solid black'))"
            ],
            "application/vnd.jupyter.widget-view+json": {
              "version_major": 2,
              "version_minor": 0,
              "model_id": "40ea8ee9cf944f9bb571844b95f81d3f"
            }
          },
          "metadata": {}
        },
        {
          "output_type": "stream",
          "name": "stdout",
          "text": [
            "\n",
            "Notice: Converted models are saved under ./converted_models\n"
          ]
        }
      ]
    },
    {
      "cell_type": "code",
      "source": [
        "# @title Save to google drive { display-mode: \"form\"}\n",
        "google_drive_directory = \"converted_models\" #@param {type:\"string\"}\n",
        "from google.colab import drive\n",
        "drive.mount('/content/drive')\n",
        "print(\"Copying models ...\")\n",
        "!mkdir -p /content/drive/MyDrive/$google_drive_directory\n",
        "!cp -r -f /content/converted_models/* /content/drive/MyDrive/$google_drive_directory\n",
        "print(\"Done\")"
      ],
      "metadata": {
        "id": "Am3idu-FRkqf",
        "colab": {
          "base_uri": "https://localhost:8080/"
        },
        "outputId": "ae611efb-0694-4dae-8519-8261e1a7b9b8"
      },
      "execution_count": 6,
      "outputs": [
        {
          "output_type": "stream",
          "name": "stdout",
          "text": [
            "Mounted at /content/drive\n",
            "Copying models ...\n",
            "cp: cannot stat '/content/converted_models/*': No such file or directory\n",
            "Done\n"
          ]
        }
      ]
    }
  ]
}